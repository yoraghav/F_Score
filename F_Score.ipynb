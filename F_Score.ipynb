{
  "cells": [
    {
      "cell_type": "code",
      "execution_count": 1,
      "metadata": {
        "id": "bBmxbXfmeBxr"
      },
      "outputs": [],
      "source": [
        "import requests\n",
        "import pandas as pd\n",
        "from pandas import json_normalize\n",
        "import json\n",
        "\n",
        "ticker  = 'AMZN'\n",
        "\n",
        "api = 'sandbox'\n",
        "token  = 'Tpk_8d2468bfcd924cd69d65c72317925e57'\n",
        "period = 'annual'\n",
        "last  = '3'"
      ]
    },
    {
      "cell_type": "markdown",
      "metadata": {
        "id": "2PDnHq33h1nU"
      },
      "source": [
        "## Fetching Information"
      ]
    },
    {
      "cell_type": "code",
      "execution_count": 2,
      "metadata": {
        "id": "Jki70zbLZUf_"
      },
      "outputs": [],
      "source": [
        "# fetching balance sheet\n",
        "response = requests.get('https://'+api+'.iexapis.com/stable/stock/'+ticker+'/balance-sheet?period='+period+'&last='+last+'&token='+token)\n",
        "balance = json_normalize(response.json(), record_path=['balancesheet'])\n",
        "\n",
        "# fetching income and cashflow statements\n",
        "response = requests.get('https://'+api+'.iexapis.com/stable/stock/'+ticker+'/income?period='+period+'&last='+last+'&token='+token)\n",
        "income = json_normalize(response.json(), record_path=['income'])\n",
        "\n",
        "response = requests.get('https://'+api+'.iexapis.com/stable/stock/'+ticker+'/cash-flow?period='+period+'&last='+last+'&token='+token)\n",
        "cashflow = json_normalize(response.json(), record_path=['cashflow'])\n",
        "\n",
        "# fetching shares issued\n",
        "response = requests.get('https://'+api+'.iexapis.com/stable/stock/'+ticker+'/stats/sharesOutstanding?token='+token)\n",
        "shares = response.json()\n",
        "\n",
        "response = requests.get('https://'+api+'.iexapis.com/stable/time-series/REPORTED_FINANCIALS/'+ticker+'/10-K?token='+token)\n",
        "financials = json_normalize(response.json())"
      ]
    },
    {
      "cell_type": "markdown",
      "metadata": {
        "id": "OeXiry0rKgMx"
      },
      "source": [
        "# Calculating of F_score"
      ]
    },
    {
      "cell_type": "code",
      "execution_count": 3,
      "metadata": {
        "colab": {
          "base_uri": "https://localhost:8080/"
        },
        "id": "hKCChYkYKsWU",
        "outputId": "f197fa8d-de19-4c97-98f7-0c3838b7229e"
      },
      "outputs": [
        {
          "output_type": "stream",
          "name": "stdout",
          "text": [
            "7\n"
          ]
        }
      ],
      "source": [
        "f_score  = 0\n",
        "\n",
        "f_score += (income.iloc[0]['netIncome']/balance.iloc[1]['totalAssets'] > 0)     # Asset Returns\n",
        "\n",
        "curr = income.iloc[0]['netIncome']/balance.iloc[1]['totalAssets']\n",
        "prev = income.iloc[1]['netIncome']/balance.iloc[2]['totalAssets']\n",
        "\n",
        "f_score += curr>prev    # Change in Assets Returns\n",
        "\n",
        "f_score += cashflow.iloc[0]['cashFlow']>0     # Operating Cashflow\n",
        "\n",
        "a_cash = cashflow.iloc[0]['cashFlow']/balance.iloc[1]['totalAssets']\n",
        "a_income = income.iloc[0]['netIncome']/balance.iloc[1]['totalAssets']\n",
        "\n",
        "f_score += a_cash > a_income      # Accurals\n",
        "\n",
        "f_score += balance.iloc[0]['longTermDebt']/balance.iloc[0]['totalAssets'] < balance.iloc[1]['longTermDebt']/balance.iloc[1]['totalAssets']\n",
        "      # Leverage Ratio \n",
        "\n",
        "f_score += balance.iloc[0]['currentAssets'] / balance.iloc[0]['totalCurrentLiabilities'] > balance.iloc[1]['currentAssets'] / balance.iloc[1]['totalCurrentLiabilities']\n",
        "      # Current Ratio\n",
        "\n",
        "f_score += shares < financials['CommonStockSharesIssued'].iloc[0]       # Number of Shares\n",
        "\n",
        "f_score += income.iloc[0]['grossProfit']/income.iloc[0]['totalRevenue'] > income.iloc[1]['grossProfit']/income.iloc[1]['totalRevenue']\n",
        "      # Change in Gross Margin\n",
        "\n",
        "f_score += income.iloc[0]['totalRevenue']/balance.iloc[1]['totalAssets'] > income.iloc[1]['totalRevenue']/balance.iloc[2]['totalAssets']\n",
        "      # Change in Asset Turnover Ratio \n",
        "\n",
        "# Final Piotroski F-Score\n",
        "print(f_score)"
      ]
    }
  ],
  "metadata": {
    "colab": {
      "collapsed_sections": [],
      "name": "F_Score.ipynb",
      "provenance": []
    },
    "kernelspec": {
      "display_name": "Python 3 (ipykernel)",
      "language": "python",
      "name": "python3"
    },
    "language_info": {
      "codemirror_mode": {
        "name": "ipython",
        "version": 3
      },
      "file_extension": ".py",
      "mimetype": "text/x-python",
      "name": "python",
      "nbconvert_exporter": "python",
      "pygments_lexer": "ipython3",
      "version": "3.7.11"
    }
  },
  "nbformat": 4,
  "nbformat_minor": 0
}